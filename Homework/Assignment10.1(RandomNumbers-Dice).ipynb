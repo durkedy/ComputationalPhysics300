{
 "cells": [
  {
   "cell_type": "markdown",
   "metadata": {},
   "source": [
    "## 13.5 Homework\n",
    "\n",
    "- a) Write a program that generates and prints out two random numbers between 1 and 6, to simulate the rolling of two dice.\n",
    "- b) Modify your program to simulate the rolling of two dice a million times (N0) and count the number of times you get double six (N1). Calculate the probability of finding double six in your simulations (N1/N0) \n",
    "- c) Write a code to generate random integers within [-5, 5], find the magic series of {a, c, m} [Don't use the built-in function in numpy] "
   ]
  },
  {
   "cell_type": "markdown",
   "metadata": {},
   "source": [
    "Part a)\n",
    "\n",
    "I use numpy's random number generator to generate random numbers between 1 and 6."
   ]
  },
  {
   "cell_type": "code",
   "execution_count": 20,
   "metadata": {},
   "outputs": [
    {
     "name": "stdout",
     "output_type": "stream",
     "text": [
      "Dice 1 =  4\n",
      "Dice 2 =  4\n"
     ]
    }
   ],
   "source": [
    "import numpy as np\n",
    "\n",
    "x = np.random.randint(1, 1000)\n",
    "np.random.seed(x)\n",
    "roll1 = np.random.randint(1,6)\n",
    "roll2 = np.random.randint(1,6)\n",
    "\n",
    "print(\"Dice 1 = \", roll1)\n",
    "print(\"Dice 2 = \", roll2)"
   ]
  },
  {
   "cell_type": "markdown",
   "metadata": {},
   "source": [
    "Part b)\n",
    "\n",
    "Now, I modify the program to simulate rolling two dice a million times."
   ]
  },
  {
   "cell_type": "code",
   "execution_count": 105,
   "metadata": {},
   "outputs": [
    {
     "name": "stdout",
     "output_type": "stream",
     "text": [
      "Number of double sixes =  28174\n"
     ]
    }
   ],
   "source": [
    "import numpy as np\n",
    "\n",
    "def rolldice(N):\n",
    "    roll = []\n",
    "    \n",
    "    for i in range(N):\n",
    "       # x = np.random.randint(1, 10000)\n",
    "        #np.random.seed(x)\n",
    "        roll.append(np.random.randint(1,7))\n",
    "        #roll2.append(np.random.randint(1,6))\n",
    "    return roll\n",
    "\n",
    "def countsixes(N):\n",
    "    count = 0\n",
    "    \n",
    "    roll1 = rolldice(N)\n",
    "    roll2 = rolldice(N)\n",
    "    \n",
    "    for i in range(0,N):\n",
    "        if roll1[i] == 6 and roll2[i] == 6:\n",
    "            count += 1\n",
    "    return count\n",
    "\n",
    "#print(roll1)\n",
    "print(\"Number of double sixes = \", countsixes(1000000))"
   ]
  },
  {
   "cell_type": "markdown",
   "metadata": {},
   "source": [
    "With $N_o = 1000000$ and $N_1 = 28174$,\n",
    "\n",
    "The probability of rolling double sixes is $p = \\frac{N_o}{N_1} \\approx 0.02$\n",
    "\n",
    "This is about what I would expect based on calculating the probability of rolling double sixes in one roll, which is $p = \\frac{1}{36} \\approx .02$"
   ]
  },
  {
   "cell_type": "raw",
   "metadata": {},
   "source": [
    "Part c)\n",
    "\n",
    "Without using numpy's random number generator, I use linear congruential method to generate random numbers between [-5, 5]."
   ]
  },
  {
   "cell_type": "code",
   "execution_count": 2,
   "metadata": {},
   "outputs": [
    {
     "ename": "NameError",
     "evalue": "name 'm' is not defined",
     "output_type": "error",
     "traceback": [
      "\u001b[1;31m---------------------------------------------------------------------------\u001b[0m",
      "\u001b[1;31mNameError\u001b[0m                                 Traceback (most recent call last)",
      "\u001b[1;32m<ipython-input-2-1df1ea6a25e6>\u001b[0m in \u001b[0;36m<module>\u001b[1;34m\u001b[0m\n\u001b[0;32m     17\u001b[0m     \u001b[1;32mreturn\u001b[0m \u001b[0mresults\u001b[0m\u001b[1;33m\u001b[0m\u001b[1;33m\u001b[0m\u001b[0m\n\u001b[0;32m     18\u001b[0m \u001b[1;33m\u001b[0m\u001b[0m\n\u001b[1;32m---> 19\u001b[1;33m \u001b[0mresults\u001b[0m \u001b[1;33m=\u001b[0m \u001b[0mrandom1\u001b[0m\u001b[1;33m(\u001b[0m\u001b[1;36m100\u001b[0m\u001b[1;33m)\u001b[0m\u001b[1;33m\u001b[0m\u001b[1;33m\u001b[0m\u001b[0m\n\u001b[0m\u001b[0;32m     20\u001b[0m \u001b[0mplt\u001b[0m\u001b[1;33m.\u001b[0m\u001b[0mplot\u001b[0m\u001b[1;33m(\u001b[0m\u001b[0mresults\u001b[0m\u001b[1;33m,\u001b[0m\u001b[1;34m\"o\"\u001b[0m\u001b[1;33m)\u001b[0m\u001b[1;33m\u001b[0m\u001b[1;33m\u001b[0m\u001b[0m\n\u001b[0;32m     21\u001b[0m \u001b[0mplt\u001b[0m\u001b[1;33m.\u001b[0m\u001b[0mshow\u001b[0m\u001b[1;33m(\u001b[0m\u001b[1;33m)\u001b[0m\u001b[1;33m\u001b[0m\u001b[1;33m\u001b[0m\u001b[0m\n",
      "\u001b[1;32m<ipython-input-2-1df1ea6a25e6>\u001b[0m in \u001b[0;36mrandom1\u001b[1;34m(N)\u001b[0m\n\u001b[0;32m     13\u001b[0m     \u001b[0mresults\u001b[0m \u001b[1;33m=\u001b[0m \u001b[1;33m[\u001b[0m\u001b[1;33m]\u001b[0m\u001b[1;33m\u001b[0m\u001b[1;33m\u001b[0m\u001b[0m\n\u001b[0;32m     14\u001b[0m     \u001b[1;32mfor\u001b[0m \u001b[0mi\u001b[0m \u001b[1;32min\u001b[0m \u001b[0mrange\u001b[0m\u001b[1;33m(\u001b[0m\u001b[0mN\u001b[0m\u001b[1;33m)\u001b[0m\u001b[1;33m:\u001b[0m\u001b[1;33m\u001b[0m\u001b[1;33m\u001b[0m\u001b[0m\n\u001b[1;32m---> 15\u001b[1;33m         \u001b[0mx\u001b[0m \u001b[1;33m=\u001b[0m \u001b[1;33m(\u001b[0m\u001b[0ma\u001b[0m\u001b[1;33m*\u001b[0m\u001b[0mx\u001b[0m\u001b[1;33m+\u001b[0m\u001b[0mc\u001b[0m\u001b[1;33m)\u001b[0m\u001b[1;33m%\u001b[0m\u001b[0mm\u001b[0m\u001b[1;33m\u001b[0m\u001b[1;33m\u001b[0m\u001b[0m\n\u001b[0m\u001b[0;32m     16\u001b[0m         \u001b[0mresults\u001b[0m\u001b[1;33m.\u001b[0m\u001b[0mappend\u001b[0m\u001b[1;33m(\u001b[0m\u001b[0mx\u001b[0m\u001b[1;33m)\u001b[0m\u001b[1;33m\u001b[0m\u001b[1;33m\u001b[0m\u001b[0m\n\u001b[0;32m     17\u001b[0m     \u001b[1;32mreturn\u001b[0m \u001b[0mresults\u001b[0m\u001b[1;33m\u001b[0m\u001b[1;33m\u001b[0m\u001b[0m\n",
      "\u001b[1;31mNameError\u001b[0m: name 'm' is not defined"
     ]
    }
   ],
   "source": [
    "import matplotlib.pyplot as plt\n",
    "\n",
    "\n",
    "\n",
    "#results = []\n",
    "\n",
    "def random1(N):\n",
    "    #N = 100\n",
    "    a = 1\n",
    "    c = 1\n",
    "    #m = 6 #4245035300\n",
    "    x = 2\n",
    "    results = []\n",
    "    for i in range(N):      \n",
    "        x = (a*x+c)%m \n",
    "        results.append(x)\n",
    "    return results\n",
    "\n",
    "results = random1(100)\n",
    "plt.plot(results,\"o\")\n",
    "plt.show()\n",
    "\n",
    "plt.hist(results)\n",
    "plt.show()\n",
    "\n",
    "#print(results)"
   ]
  },
  {
   "cell_type": "markdown",
   "metadata": {},
   "source": [
    "Depending on whether or not I set m = 6 or -6, I can get random number generation between 0 to 5, or 0 to -5. \n",
    "Thus, I need a way to generate both positive and negative values. \n",
    "I do this by trying to randomize whether m will be positive or negative.\n",
    "I use the same linear congruential method, where I generate a list of random numbers between 0 and 5. I will then use this list to determine whether my m values will be positive (index value <3) or negative (index value >=3)."
   ]
  },
  {
   "cell_type": "code",
   "execution_count": 4,
   "metadata": {},
   "outputs": [
    {
     "data": {
      "image/png": "[encoded data removed]",
      "text/plain": [
       "<Figure size 432x288 with 1 Axes>"
      ]
     },
     "metadata": {
      "needs_background": "light"
     },
     "output_type": "display_data"
    },
    {
     "data": {
      "image/png": "[encoded data removed]",
      "text/plain": [
       "<Figure size 432x288 with 1 Axes>"
      ]
     },
     "metadata": {
      "needs_background": "light"
     },
     "output_type": "display_data"
    }
   ],
   "source": [
    "\n",
    "def random_m(N):\n",
    "    y = 2\n",
    "    n = int(2e31-1)\n",
    "    b = 7**7\n",
    "    d = 1\n",
    "    value_m = []\n",
    "    for i in range(N):\n",
    "        y = (b*y+d)%n\n",
    "        y = y%6\n",
    "        value_m.append(y)\n",
    "    return value_m\n",
    "    \n",
    "#print(random_m(100))\n",
    "\n",
    "def random2(N):\n",
    "    a = 7**7\n",
    "    c = 1\n",
    "    m = 6 #4245035300\n",
    "    x = 1\n",
    "    results = []\n",
    "    value_m = random_m(N)\n",
    "    for i in range(N):\n",
    "        if value_m[i] >=3:\n",
    "            m = -m\n",
    "        else:\n",
    "            m = m\n",
    "        x = (a*x+c)%m \n",
    "        #x = x%6\n",
    "        results.append(x)\n",
    "    return results\n",
    "\n",
    "randomlist = random2(2000)\n",
    "#print(randomlist)\n",
    "\n",
    "plt.plot(randomlist,\"o\")\n",
    "plt.xlabel(\"N\")\n",
    "plt.ylabel(\"Value\")\n",
    "plt.title(\"Number of Values Generated Between -5 and 5\")\n",
    "plt.show()\n",
    "\n",
    "plt.hist(randomlist)\n",
    "plt.xlabel(\"Value\")\n",
    "plt.ylabel(\"Quantity of Value\")\n",
    "plt.show()\n",
    "\n",
    "    \n",
    "    "
   ]
  },
  {
   "cell_type": "markdown",
   "metadata": {},
   "source": [
    "With this method of determining the sign (negative or positive) of m, I can generate numbers between -5 and 5. There is still some periodicity to this method, so the numbers are only semi-random. I also generate the values \"1\" and \"5\" with more frequency than the rest of the numbers."
   ]
  },
  {
   "cell_type": "code",
   "execution_count": null,
   "metadata": {},
   "outputs": [],
   "source": []
  }
 ],
 "metadata": {
  "kernelspec": {
   "display_name": "Python 3",
   "language": "python",
   "name": "python3"
  },
  "language_info": {
   "codemirror_mode": {
    "name": "ipython",
    "version": 3
   },
   "file_extension": ".py",
   "mimetype": "text/x-python",
   "name": "python",
   "nbconvert_exporter": "python",
   "pygments_lexer": "ipython3",
   "version": "3.7.3"
  }
 },
 "nbformat": 4,
 "nbformat_minor": 2
}
