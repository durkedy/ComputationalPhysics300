{
 "cells": [
  {
   "cell_type": "markdown",
   "metadata": {},
   "source": [
    "## 17.5 Homework\n",
    "\n",
    "Write a program to find the ground state of LJ potential for N=3 (assuming $\\epsilon$ = $\\sigma$ = 1)\n",
    "\n",
    "[Reference](http://doye.chem.ox.ac.uk/jon/structures/LJ/tables.150.html)"
   ]
  },
  {
   "cell_type": "markdown",
   "metadata": {},
   "source": [
    "First, I import the x,y,z positions of each of the three atoms (N=3) from the website link above. This is done using the following code from our lectures; I use the function \"get_pos_from_url\" to access the data from the website, and the function \"parse_url_text\" to store the data in a 1D numpy array."
   ]
  },
  {
   "cell_type": "code",
   "execution_count": null,
   "metadata": {},
   "outputs": [],
   "source": [
    "import numpy as np\n",
    "import requests\n",
    "import matplotlib.pyplot as plt\n",
    "\n",
    "def get_pos_from_url(address='http://doye.chem.ox.ac.uk/jon/structures/LJ/points/', N=7):\n",
    "    url_address = address + str(N)\n",
    "    data_str = requests.get(url_address).text\n",
    "    return parse_url_text(data_str)    \n",
    "    \n",
    "def parse_url_text(data_str):\n",
    "    x_array = []\n",
    "    text = data_str.split('\\n')\n",
    "    for line in text:\n",
    "        [x_array.append(float(i)) for i in line.split()]\n",
    "    return np.array(x_array)"
   ]
  },
  {
   "cell_type": "markdown",
   "metadata": {},
   "source": [
    "Calling the above functions, I store the x,y,z positions of each atom in a 1D numpy array called \"pos\". I then define two functions: \"distance\" takes in the x,y,z coordinates for two different atoms, and calculates the magnitude of the distance between those two atoms and returns the value. I call this function to find the three distances between the atoms. In the N=3 case, these distances are all equal. I then store there three distances (r1, r2, r3) into one array \"r.\""
   ]
  },
  {
   "cell_type": "code",
   "execution_count": 21,
   "metadata": {},
   "outputs": [],
   "source": [
    "def distance(atom1, atom2):\n",
    "    #print (atom1, atom2)\n",
    "    dist = np.sqrt((atom1[0]-atom2[0])**2+(atom1[1]-atom2[1])**2+(atom1[2]-atom2[2])**2)\n",
    "    return dist\n",
    "\n",
    "pos = get_pos_from_url(N=3)\n",
    "\n",
    "r1 = distance(pos[0:3], pos[3:6])\n",
    "r2 = distance(pos[0:3],pos[6:])\n",
    "r3 = distance(pos[3:6], pos[6:])\n",
    "r = [r1, r2, r3]"
   ]
  },
  {
   "cell_type": "markdown",
   "metadata": {},
   "source": [
    "Using the LJ function for calculating the potential between two atoms, I calculate the total energy of the N=3 configuration. I pass in my r array containg the three distances, and a for loop computes the total energy of the configuration and returns the value."
   ]
  },
  {
   "cell_type": "code",
   "execution_count": 20,
   "metadata": {},
   "outputs": [
    {
     "name": "stdout",
     "output_type": "stream",
     "text": [
      "-2.9999999999980176\n"
     ]
    }
   ],
   "source": [
    "\n",
    "def LJ(r):\n",
    "    \n",
    "    Etotal = 0\n",
    "    for i in r:\n",
    "        r6 = i**6\n",
    "        r12 = r6*r6\n",
    "        Etotal +=  4*(1/r12 - 1/r6)\n",
    "        \n",
    "    return Etotal\n",
    "\n",
    "\n",
    "\n",
    "\n",
    "Etotal = LJ(r)\n",
    "print(Etotal)"
   ]
  },
  {
   "cell_type": "code",
   "execution_count": null,
   "metadata": {},
   "outputs": [],
   "source": []
  }
 ],
 "metadata": {
  "kernelspec": {
   "display_name": "Python 3",
   "language": "python",
   "name": "python3"
  },
  "language_info": {
   "codemirror_mode": {
    "name": "ipython",
    "version": 3
   },
   "file_extension": ".py",
   "mimetype": "text/x-python",
   "name": "python",
   "nbconvert_exporter": "python",
   "pygments_lexer": "ipython3",
   "version": "3.7.3"
  }
 },
 "nbformat": 4,
 "nbformat_minor": 2
}
