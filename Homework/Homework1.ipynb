{
 "cells": [
  {
   "cell_type": "code",
   "execution_count": 1,
   "metadata": {},
   "outputs": [
    {
     "name": "stdout",
     "output_type": "stream",
     "text": [
      "Enter a value for N: -1\n",
      "Enter a value for q: -1\n",
      "N must be greater than or equal to 1 and q must be greater than or equal to 0\n"
     ]
    }
   ],
   "source": [
    "def factorial(x):\n",
    "    if x == 0 or x == 1:\n",
    "        return 1\n",
    "    else:\n",
    "        total = 1\n",
    "        for y in range(2,(x+1)):\n",
    "            total *= y\n",
    "        return total\n",
    "    \n",
    "def multiplicity(N,q):\n",
    "    omega = factorial(q+N-1)//(factorial(q)*factorial(N-1))\n",
    "    return omega\n",
    "\n",
    "N = int(input(\"Enter a value for N: \"))\n",
    "q = int(input(\"Enter a value for q: \"))\n",
    "\n",
    "if N < 1 or q < 0:\n",
    "    print(\"N must be greater than or equal to 1 and q must be greater than or equal to 0\")\n",
    "else:\n",
    "    print(\"The multiplicity for N = \", N, \" and q = \", q, \"is \", multiplicity(N,q))"
   ]
  }
 ],
 "metadata": {
  "kernelspec": {
   "display_name": "Python 3",
   "language": "python",
   "name": "python3"
  },
  "language_info": {
   "codemirror_mode": {
    "name": "ipython",
    "version": 3
   },
   "file_extension": ".py",
   "mimetype": "text/x-python",
   "name": "python",
   "nbconvert_exporter": "python",
   "pygments_lexer": "ipython3",
   "version": "3.7.3"
  }
 },
 "nbformat": 4,
 "nbformat_minor": 2
}
