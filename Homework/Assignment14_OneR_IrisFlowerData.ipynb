{
 "cells": [
  {
   "cell_type": "markdown",
   "metadata": {},
   "source": [
    "# 21.6 Homework \n",
    "\n",
    "Complete the One Rule Algorithm for the flower model.\n",
    "\n",
    "First, I import the iris flower data and generate the table that categorizes each flower by its four attributes: Sepal Length, Sepal Width, Petal Length, and Petal Width. The fifth column shows the target \"class\" of each flower - whether its Sertosa, Versicolour, or Verginica (0, 1, or 2). (Same as our table we generated in class)"
   ]
  },
  {
   "cell_type": "code",
   "execution_count": 73,
   "metadata": {},
   "outputs": [
    {
     "data": {
      "text/html": [
       "<div>\n",
       "<style scoped>\n",
       "    .dataframe tbody tr th:only-of-type {\n",
       "        vertical-align: middle;\n",
       "    }\n",
       "\n",
       "    .dataframe tbody tr th {\n",
       "        vertical-align: top;\n",
       "    }\n",
       "\n",
       "    .dataframe thead th {\n",
       "        text-align: right;\n",
       "    }\n",
       "</style>\n",
       "<table border=\"1\" class=\"dataframe\">\n",
       "  <thead>\n",
       "    <tr style=\"text-align: right;\">\n",
       "      <th></th>\n",
       "      <th>Sepal Length</th>\n",
       "      <th>Sepal Width</th>\n",
       "      <th>Petal Length</th>\n",
       "      <th>Petal Width</th>\n",
       "      <th>Label</th>\n",
       "    </tr>\n",
       "  </thead>\n",
       "  <tbody>\n",
       "    <tr>\n",
       "      <th>0</th>\n",
       "      <td>5.10 %</td>\n",
       "      <td>3.50 %</td>\n",
       "      <td>1.40 %</td>\n",
       "      <td>0.20 %</td>\n",
       "      <td>0</td>\n",
       "    </tr>\n",
       "    <tr>\n",
       "      <th>1</th>\n",
       "      <td>4.90 %</td>\n",
       "      <td>3.00 %</td>\n",
       "      <td>1.40 %</td>\n",
       "      <td>0.20 %</td>\n",
       "      <td>0</td>\n",
       "    </tr>\n",
       "    <tr>\n",
       "      <th>2</th>\n",
       "      <td>4.70 %</td>\n",
       "      <td>3.20 %</td>\n",
       "      <td>1.30 %</td>\n",
       "      <td>0.20 %</td>\n",
       "      <td>0</td>\n",
       "    </tr>\n",
       "    <tr>\n",
       "      <th>3</th>\n",
       "      <td>4.60 %</td>\n",
       "      <td>3.10 %</td>\n",
       "      <td>1.50 %</td>\n",
       "      <td>0.20 %</td>\n",
       "      <td>0</td>\n",
       "    </tr>\n",
       "    <tr>\n",
       "      <th>4</th>\n",
       "      <td>5.00 %</td>\n",
       "      <td>3.60 %</td>\n",
       "      <td>1.40 %</td>\n",
       "      <td>0.20 %</td>\n",
       "      <td>0</td>\n",
       "    </tr>\n",
       "    <tr>\n",
       "      <th>...</th>\n",
       "      <td>...</td>\n",
       "      <td>...</td>\n",
       "      <td>...</td>\n",
       "      <td>...</td>\n",
       "      <td>...</td>\n",
       "    </tr>\n",
       "    <tr>\n",
       "      <th>145</th>\n",
       "      <td>6.70 %</td>\n",
       "      <td>3.00 %</td>\n",
       "      <td>5.20 %</td>\n",
       "      <td>2.30 %</td>\n",
       "      <td>2</td>\n",
       "    </tr>\n",
       "    <tr>\n",
       "      <th>146</th>\n",
       "      <td>6.30 %</td>\n",
       "      <td>2.50 %</td>\n",
       "      <td>5.00 %</td>\n",
       "      <td>1.90 %</td>\n",
       "      <td>2</td>\n",
       "    </tr>\n",
       "    <tr>\n",
       "      <th>147</th>\n",
       "      <td>6.50 %</td>\n",
       "      <td>3.00 %</td>\n",
       "      <td>5.20 %</td>\n",
       "      <td>2.00 %</td>\n",
       "      <td>2</td>\n",
       "    </tr>\n",
       "    <tr>\n",
       "      <th>148</th>\n",
       "      <td>6.20 %</td>\n",
       "      <td>3.40 %</td>\n",
       "      <td>5.40 %</td>\n",
       "      <td>2.30 %</td>\n",
       "      <td>2</td>\n",
       "    </tr>\n",
       "    <tr>\n",
       "      <th>149</th>\n",
       "      <td>5.90 %</td>\n",
       "      <td>3.00 %</td>\n",
       "      <td>5.10 %</td>\n",
       "      <td>1.80 %</td>\n",
       "      <td>2</td>\n",
       "    </tr>\n",
       "  </tbody>\n",
       "</table>\n",
       "<p>150 rows × 5 columns</p>\n",
       "</div>"
      ],
      "text/plain": [
       "     Sepal Length   Sepal Width  Petal Length  Petal Width  Label\n",
       "0           5.10 %       3.50 %        1.40 %       0.20 %      0\n",
       "1           4.90 %       3.00 %        1.40 %       0.20 %      0\n",
       "2           4.70 %       3.20 %        1.30 %       0.20 %      0\n",
       "3           4.60 %       3.10 %        1.50 %       0.20 %      0\n",
       "4           5.00 %       3.60 %        1.40 %       0.20 %      0\n",
       "..             ...          ...           ...          ...    ...\n",
       "145         6.70 %       3.00 %        5.20 %       2.30 %      2\n",
       "146         6.30 %       2.50 %        5.00 %       1.90 %      2\n",
       "147         6.50 %       3.00 %        5.20 %       2.00 %      2\n",
       "148         6.20 %       3.40 %        5.40 %       2.30 %      2\n",
       "149         5.90 %       3.00 %        5.10 %       1.80 %      2\n",
       "\n",
       "[150 rows x 5 columns]"
      ]
     },
     "execution_count": 73,
     "metadata": {},
     "output_type": "execute_result"
    }
   ],
   "source": [
    "import numpy as np\n",
    "import matplotlib.pyplot as plt\n",
    "from sklearn.datasets import load_iris\n",
    "from collections import OrderedDict\n",
    "import pandas as pd\n",
    "\n",
    "att = ['Sepal Length',\n",
    "              'Sepal Width',\n",
    "              'Petal Length',\n",
    "              'Petal Width']\n",
    "\n",
    "dataset = load_iris()\n",
    "X = dataset.data\n",
    "Y = dataset.target\n",
    "\n",
    "Iris_data = OrderedDict({'Sepal Length ': X[:,0],\n",
    "             'Sepal Width': X[:,1],\n",
    "             'Petal Length': X[:,2],\n",
    "             'Petal Width': X[:,3],\n",
    "             'Label': Y})\n",
    "\n",
    "df = pd.DataFrame(Iris_data)\n",
    "pd.set_option('display.max_rows', 10)\n",
    "df"
   ]
  },
  {
   "cell_type": "markdown",
   "metadata": {},
   "source": [
    "Next, before I can start implementing the OneR algorithm, I must bin the data in order to find a rule for each attribute. The rule is used determine which species of iris flower the individual flower belongs to.\n",
    "\n",
    "The algorithm is the following. \n",
    "- 1, For each predictor,\n",
    "     - 1.1 For each value of that predictor, make a rule as follows;\n",
    "           - 1.1.1 Count how often each value of target (class) appears\n",
    "           - 1.1.2 Find the most frequent class\n",
    "           - 1.1.3 Make the rule assign that class to this value of the predictor\n",
    "     - 1.2 Calculate the total error of the rules of each predictor\n",
    "- 2, Choose the predictor with the smallest total error."
   ]
  },
  {
   "cell_type": "code",
   "execution_count": 74,
   "metadata": {},
   "outputs": [],
   "source": [
    "def rule(x):\n",
    "    \n",
    "    means = [] # hold attribute means for each species\n",
    "    means.append(np.mean(x[:50]))     # Species 1 (Sertosa)\n",
    "    means.append(np.mean(x[50:100]))  # Species 2 (Versicolour)\n",
    "    means.append(np.mean(x[100:150])) # Species 3 (Virginica)\n",
    "    \n",
    "    #Create boundaries for three bins: I take the center (mean) value between each of the three bins.\n",
    "    # (bin1+bin2)/2\n",
    "    bins = [(means[0]+means[1])/2,\n",
    "             (means[1]+means[2])/2]\n",
    "    \n",
    "    #Make ascending order.\n",
    "    if bins[0] > bins[1]:\n",
    "        temp = bins[0]\n",
    "        bins[0] = bins[1]\n",
    "        bins[1] = temp\n",
    "    return bins\n",
    "\n",
    "def freq(trait, rule):\n",
    "    \n",
    "    Species = []\n",
    "    for i in range(len(trait)):\n",
    "        \n",
    "        if trait[i] < rule[0]:\n",
    "            Species.append(0)\n",
    "        elif trait[i] >= rule[0] and trait[i] < rule[1]:\n",
    "            Species.append(1)\n",
    "        elif trait[i] >= rule[1]:\n",
    "            Species.append(2)\n",
    "    \n",
    "    return Species\n",
    "\n",
    "def check_assignment(traitArr, target):\n",
    "    \n",
    "    correct = 0\n",
    "    \n",
    "    for i in range(len(target)):\n",
    "        if traitArr[i] == target[i]:\n",
    "            correct += 1\n",
    "            \n",
    "    return correct\n",
    "\n",
    "def acc(predictions, target):\n",
    "    \n",
    "    return (predictions/len(target))*100"
   ]
  },
  {
   "cell_type": "code",
   "execution_count": 75,
   "metadata": {},
   "outputs": [
    {
     "name": "stdout",
     "output_type": "stream",
     "text": [
      "112\n"
     ]
    }
   ],
   "source": [
    "\"\"\"\n",
    "Sepal length predictor\n",
    "\n",
    "After calculating the rule (bins) for the sepal length,\n",
    "calculate the frequency of occurence according to the rule.\n",
    "Then, check the rule assignments with the target species so that\n",
    "we can estimate the accuracy.\n",
    "\"\"\"\n",
    "\n",
    "bins_Seplength = rule(X[:,0]) #Bins generated by the rule for the predictor.\n",
    "freq_Seplength = freq(X[:,0], bins_Seplength) #Frequency of assignments of each species according to the rule.\n",
    "predictions = check_assignment(freq_Seplength, Y)\n",
    "\n",
    "print(predictions)"
   ]
  },
  {
   "cell_type": "code",
   "execution_count": 76,
   "metadata": {},
   "outputs": [
    {
     "name": "stdout",
     "output_type": "stream",
     "text": [
      "74.66666666666667 %\n"
     ]
    }
   ],
   "source": [
    "\"\"\"\n",
    "Accuracy of Sepal Length prediction\n",
    "\n",
    "Now we know the number of correct predictions, we can calculate the accuracy of the rule.\n",
    "\n",
    "\"\"\"\n",
    "\n",
    "Accuracy_SL = acc(predictions, Y)\n",
    "\n",
    "print(Accuracy_SL, '%')"
   ]
  },
  {
   "cell_type": "markdown",
   "metadata": {},
   "source": [
    "Now, I apply the same algorithm to the other three attributes: Sepal width, petal length, and petal width, and compare the errors to determine which is the best predictor."
   ]
  },
  {
   "cell_type": "code",
   "execution_count": 77,
   "metadata": {},
   "outputs": [
    {
     "name": "stdout",
     "output_type": "stream",
     "text": [
      "22.0 %\n"
     ]
    }
   ],
   "source": [
    "\"\"\"\n",
    "Sepal width predictor\n",
    "\n",
    "\"\"\"\n",
    "\n",
    "bins_Sepwidth = rule(X[:,1]) #Bins generated by the rule for the predictor.\n",
    "freq_Sepwidth = freq(X[:,1], bins_Sepwidth) #Frequency of assignments of each species according to the rule.\n",
    "predictions = check_assignment(freq_Sepwidth, Y)\n",
    "\n",
    "Accuracy_SW = acc(predictions, Y)\n",
    "\n",
    "print(Accuracy_SW, '%')"
   ]
  },
  {
   "cell_type": "code",
   "execution_count": 78,
   "metadata": {},
   "outputs": [
    {
     "name": "stdout",
     "output_type": "stream",
     "text": [
      "94.66666666666667 %\n"
     ]
    }
   ],
   "source": [
    "\"\"\"\n",
    "Petal length predictor\n",
    "\n",
    "\"\"\"\n",
    "\n",
    "bins_Petlength = rule(X[:,2]) #Bins generated by the rule for the predictor.\n",
    "freq_Petlength = freq(X[:,2], bins_Petlength) #Frequency of assignments of each species according to the rule.\n",
    "predictions = check_assignment(freq_Petlength, Y)\n",
    "\n",
    "Accuracy_PL = acc(predictions, Y)\n",
    "\n",
    "print(Accuracy_PL, '%')"
   ]
  },
  {
   "cell_type": "code",
   "execution_count": 79,
   "metadata": {},
   "outputs": [
    {
     "name": "stdout",
     "output_type": "stream",
     "text": [
      "96.0 %\n"
     ]
    }
   ],
   "source": [
    "\"\"\"\n",
    "Petal width predictor\n",
    "\n",
    "\"\"\"\n",
    "\n",
    "bins_Petwidth = rule(X[:,3]) #Bins generated by the rule for the predictor.\n",
    "freq_Petwidth = freq(X[:,3], bins_Petwidth) #Frequency of assignments of each species according to the rule.\n",
    "predictions = check_assignment(freq_Petwidth, Y)\n",
    "\n",
    "Accuracy_PW = acc(predictions, Y)\n",
    "\n",
    "print(Accuracy_PW, '%')"
   ]
  },
  {
   "cell_type": "code",
   "execution_count": 80,
   "metadata": {},
   "outputs": [
    {
     "data": {
      "text/html": [
       "<div>\n",
       "<style scoped>\n",
       "    .dataframe tbody tr th:only-of-type {\n",
       "        vertical-align: middle;\n",
       "    }\n",
       "\n",
       "    .dataframe tbody tr th {\n",
       "        vertical-align: top;\n",
       "    }\n",
       "\n",
       "    .dataframe thead th {\n",
       "        text-align: right;\n",
       "    }\n",
       "</style>\n",
       "<table border=\"1\" class=\"dataframe\">\n",
       "  <thead>\n",
       "    <tr style=\"text-align: right;\">\n",
       "      <th></th>\n",
       "      <th>Predictor</th>\n",
       "      <th>Accuracy</th>\n",
       "    </tr>\n",
       "  </thead>\n",
       "  <tbody>\n",
       "    <tr>\n",
       "      <th>0</th>\n",
       "      <td>Sepal Length</td>\n",
       "      <td>74.67 %</td>\n",
       "    </tr>\n",
       "    <tr>\n",
       "      <th>1</th>\n",
       "      <td>Sepal Width</td>\n",
       "      <td>22.00 %</td>\n",
       "    </tr>\n",
       "    <tr>\n",
       "      <th>2</th>\n",
       "      <td>Petal Length</td>\n",
       "      <td>94.67 %</td>\n",
       "    </tr>\n",
       "    <tr>\n",
       "      <th>3</th>\n",
       "      <td>Petal Width</td>\n",
       "      <td>96.00 %</td>\n",
       "    </tr>\n",
       "  </tbody>\n",
       "</table>\n",
       "</div>"
      ],
      "text/plain": [
       "      Predictor  Accuracy\n",
       "0  Sepal Length   74.67 %\n",
       "1   Sepal Width   22.00 %\n",
       "2  Petal Length   94.67 %\n",
       "3   Petal Width   96.00 %"
      ]
     },
     "execution_count": 80,
     "metadata": {},
     "output_type": "execute_result"
    }
   ],
   "source": [
    "\"\"\"\n",
    "Compare the accuracies generated by each attribute rule.\n",
    "\n",
    "\"\"\"\n",
    "compare = np.asarray([Accuracy_SL,\n",
    "                      Accuracy_SW,\n",
    "                      Accuracy_PL,\n",
    "                      Accuracy_PW])\n",
    "acc_table = OrderedDict({'Predictor': att,\n",
    "                            'Accuracy': compare,})\n",
    "pd.options.display.float_format = '{:,.2f} %'.format\n",
    "pd.DataFrame(acc_table)"
   ]
  },
  {
   "cell_type": "markdown",
   "metadata": {},
   "source": [
    "From the above table comparison, we see that the attribute with the highest success rate is petal width, so this is the best attribute for classification."
   ]
  }
 ],
 "metadata": {
  "kernelspec": {
   "display_name": "Python 3",
   "language": "python",
   "name": "python3"
  },
  "language_info": {
   "codemirror_mode": {
    "name": "ipython",
    "version": 3
   },
   "file_extension": ".py",
   "mimetype": "text/x-python",
   "name": "python",
   "nbconvert_exporter": "python",
   "pygments_lexer": "ipython3",
   "version": "3.7.3"
  }
 },
 "nbformat": 4,
 "nbformat_minor": 2
}
