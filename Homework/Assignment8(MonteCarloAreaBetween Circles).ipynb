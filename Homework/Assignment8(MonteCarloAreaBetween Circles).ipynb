{
 "cells": [
  {
   "cell_type": "markdown",
   "metadata": {},
   "source": [
    "## 11.5 Homework\n",
    "\n",
    "#### 1, Monte Carlo Integral\n",
    "\n",
    "Calculate the area shaded in green"
   ]
  },
  {
   "cell_type": "code",
   "execution_count": 10,
   "metadata": {},
   "outputs": [
    {
     "data": {
      "image/png": "[encoded data removed]",
      "text/plain": [
       "<Figure size 360x360 with 1 Axes>"
      ]
     },
     "metadata": {
      "needs_background": "light"
     },
     "output_type": "display_data"
    }
   ],
   "source": [
    "#Import relevant libraries for plotting, numpy operations, and random num generator.\n",
    "import matplotlib.pyplot as plt\n",
    "import numpy as np\n",
    "from random import random\n",
    "%matplotlib inline\n",
    "\n",
    "#Define function for first circle.\n",
    "def f1(x):\n",
    "    return np.sqrt(1-(x-1)**2)\n",
    "\n",
    "#Define function for second circle.\n",
    "def f2(x):\n",
    "    return 2-np.sqrt(4-x**2)\n",
    "\n",
    "#Define Monte Carlo function, which returns Area in between curves on graph.\n",
    "#I use a 2x2 area, shown by red square in graph, to multiply by my count.\n",
    "def MC1(N):\n",
    "    count = 0\n",
    "    for i in range(N):\n",
    "        x=2*random()\n",
    "        y=2*random()\n",
    "        if y < f1(x) and y > f2(x):\n",
    "            count += 1\n",
    "    I = 4*count/N\n",
    "    return count, I\n",
    "\n",
    "#Plot the curves, area we want to calculate shaded in green, and the red box area we use in Monte Carlo calculation.\n",
    "x1 = np.linspace(0, 2, 100)\n",
    "plt.figure(figsize = (5,5))\n",
    "plt.plot(x1, f1(x1), 'black')\n",
    "plt.plot(x1, f2(x1), 'black')\n",
    "plt.plot([0,0,2,2,0],[0,2,2,0,0], 'r')\n",
    "plt.fill_between(x1, f1(x1), f2(x1), where=f1(x1)>f2(x1), color='green', alpha='0.5')\n",
    "plt.show()"
   ]
  },
  {
   "cell_type": "code",
   "execution_count": 11,
   "metadata": {},
   "outputs": [
    {
     "name": "stdout",
     "output_type": "stream",
     "text": [
      "the area in the green region for N =  100 =  0.84\n",
      "the area in the green region for N =  1000 =  1.04\n",
      "the area in the green region for N =  10000 =  0.9428\n",
      "the area in the green region for N =  100000 =  0.95788\n"
     ]
    }
   ],
   "source": [
    "print(\"the area in the green region for N = \", str(100), \"= \", MC1(100)[1])\n",
    "print(\"the area in the green region for N = \", str(1000), \"= \", MC1(1000)[1])\n",
    "print(\"the area in the green region for N = \", str(10000), \"= \", MC1(10000)[1])\n",
    "print(\"the area in the green region for N = \", str(100000), \"= \", MC1(100000)[1])"
   ]
  },
  {
   "cell_type": "markdown",
   "metadata": {},
   "source": [
    "#### 2, Error Analysis\n",
    "Try to do the intergral many times (100) for different $N$ values (100, 1000, 10000, 100000), collect the data and calculate its standard varaince."
   ]
  },
  {
   "cell_type": "code",
   "execution_count": 12,
   "metadata": {},
   "outputs": [
    {
     "name": "stdout",
     "output_type": "stream",
     "text": [
      "the standard variance for N = 100 =  0.001716\n",
      "the standard variance for N = 1000 =  0.000188496\n",
      "the standard variance for N = 10000 =  1.7903104e-05\n",
      "the standard variance for N = 100000 =  1.828930975e-06\n"
     ]
    }
   ],
   "source": [
    "#Calculate variance of binomial distribution.\n",
    "def variance(N):\n",
    "    p = MC1(N)[0]/N\n",
    "    var = (p*(1-p)/N)\n",
    "    return var\n",
    "\n",
    "print(\"the standard variance for N =\", str(100), \"= \", variance(100))\n",
    "print(\"the standard variance for N =\", str(1000), \"= \", variance(1000))\n",
    "print(\"the standard variance for N =\", str(10000), \"= \", variance(10000))\n",
    "print(\"the standard variance for N =\", str(100000), \"= \", variance(100000))"
   ]
  },
  {
   "cell_type": "markdown",
   "metadata": {},
   "source": [
    "Sampling more points for the Monte Carlo calculation results in a smaller standard variance, which we'd expect since the variance of a binomial distribution is proportional to $1/N$."
   ]
  },
  {
   "cell_type": "code",
   "execution_count": null,
   "metadata": {},
   "outputs": [],
   "source": []
  }
 ],
 "metadata": {
  "kernelspec": {
   "display_name": "Python 3",
   "language": "python",
   "name": "python3"
  },
  "language_info": {
   "codemirror_mode": {
    "name": "ipython",
    "version": 3
   },
   "file_extension": ".py",
   "mimetype": "text/x-python",
   "name": "python",
   "nbconvert_exporter": "python",
   "pygments_lexer": "ipython3",
   "version": "3.7.3"
  }
 },
 "nbformat": 4,
 "nbformat_minor": 2
}
